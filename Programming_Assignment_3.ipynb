{
 "cells": [
  {
   "cell_type": "code",
   "execution_count": null,
   "id": "db512848",
   "metadata": {},
   "outputs": [],
   "source": [
    "1. Write a Python Program to Check if a Number is Positive, Negative or Zero?\n",
    "2. Write a Python Program to Check if a Number is Odd or Even?\n",
    "3. Write a Python Program to Check Leap Year?\n",
    "4. Write a Python Program to Check Prime Number?\n",
    "5. Write a Python Program to Print all Prime Numbers in an Interval of 1-10000?"
   ]
  },
  {
   "cell_type": "code",
   "execution_count": 6,
   "id": "56175a45",
   "metadata": {},
   "outputs": [
    {
     "name": "stdout",
     "output_type": "stream",
     "text": [
      "enter a Number : -5\n",
      "The number {} is Negative\n"
     ]
    }
   ],
   "source": [
    "num = int(input(\"enter a Number : \"))\n",
    "\n",
    "if num > 0 :\n",
    "    print(\"The number is positive\")\n",
    "    \n",
    "elif num < 0 :\n",
    "    print(\"The number {} is Negative\")\n",
    "else :\n",
    "    print(\"The number is zero\")"
   ]
  },
  {
   "cell_type": "code",
   "execution_count": null,
   "id": "32b9762b",
   "metadata": {},
   "outputs": [],
   "source": [
    "2. Write a Python Program to Check if a Number is Odd or Even?"
   ]
  },
  {
   "cell_type": "code",
   "execution_count": 8,
   "id": "dac9487c",
   "metadata": {},
   "outputs": [
    {
     "name": "stdout",
     "output_type": "stream",
     "text": [
      "Enter the number: 44\n",
      "The number is even\n"
     ]
    }
   ],
   "source": [
    "num=int(input(\"Enter the number: \"))\n",
    "\n",
    "if num%2==0 :\n",
    "    print(\"The number is even\")\n",
    "else:\n",
    "    print(\"The number is odd\")"
   ]
  },
  {
   "cell_type": "code",
   "execution_count": null,
   "id": "a0d68c0d",
   "metadata": {},
   "outputs": [],
   "source": [
    "3. Write a Python Program to Check Leap Year?"
   ]
  },
  {
   "cell_type": "code",
   "execution_count": 10,
   "id": "32cb44fb",
   "metadata": {},
   "outputs": [
    {
     "name": "stdout",
     "output_type": "stream",
     "text": [
      "Enter a year : 2025\n",
      "Not a Leap Year\n"
     ]
    }
   ],
   "source": [
    "def checkYear(year):\n",
    "    if (year % 4) == 0:\n",
    "        if (year % 100) == 0:\n",
    "            if (year % 400) == 0:\n",
    "                return True\n",
    "            else:\n",
    "                return False\n",
    "        else:\n",
    "             return True\n",
    "    else:\n",
    "        return False\n",
    " \n",
    "\n",
    "year = int(input(\"Enter a year : \"))\n",
    "\n",
    "if(checkYear(year)):\n",
    "    print(\"Leap Year\")\n",
    "else:\n",
    "    print(\"Not a Leap Year\")\n",
    "     "
   ]
  },
  {
   "cell_type": "code",
   "execution_count": null,
   "id": "5c8faca7",
   "metadata": {},
   "outputs": [],
   "source": [
    "4. Write a Python Program to Check Prime Number?"
   ]
  },
  {
   "cell_type": "code",
   "execution_count": 11,
   "id": "ba07912c",
   "metadata": {},
   "outputs": [
    {
     "name": "stdout",
     "output_type": "stream",
     "text": [
      "Enter a number: 23\n",
      "23 is a prime number\n"
     ]
    }
   ],
   "source": [
    "num1 = int(input(\"Enter a number: \")) \n",
    " \n",
    "if num1 > 1:\n",
    "    for i in range(2,num1):\n",
    "        if (num1%i) == 0:\n",
    "            print(num1,'is not a prime')                \n",
    "            break\n",
    "    else:\n",
    "        print(num1,'is a prime number')\n",
    "else:\n",
    "    print(\"Number is less than 1\")"
   ]
  },
  {
   "cell_type": "code",
   "execution_count": 22,
   "id": "ef7ad23b",
   "metadata": {
    "scrolled": false
   },
   "outputs": [],
   "source": [
    "5. Write a Python Program to Print all Prime Numbers in an Interval of 1-10000?"
   ]
  },
  {
   "cell_type": "code",
   "execution_count": 24,
   "id": "d2376135",
   "metadata": {},
   "outputs": [
    {
     "name": "stdout",
     "output_type": "stream",
     "text": [
      "Enter a number1: 1\n",
      "Enter a number2: 100\n",
      "2 is a prime number\n",
      "3 is a prime number\n",
      "4 is not a prime\n",
      "5 is a prime number\n",
      "6 is not a prime\n",
      "7 is a prime number\n",
      "8 is not a prime\n",
      "9 is not a prime\n",
      "10 is not a prime\n",
      "11 is a prime number\n",
      "12 is not a prime\n",
      "13 is a prime number\n",
      "14 is not a prime\n",
      "15 is not a prime\n",
      "16 is not a prime\n",
      "17 is a prime number\n",
      "18 is not a prime\n",
      "19 is a prime number\n",
      "20 is not a prime\n",
      "21 is not a prime\n",
      "22 is not a prime\n",
      "23 is a prime number\n",
      "24 is not a prime\n",
      "25 is not a prime\n",
      "26 is not a prime\n",
      "27 is not a prime\n",
      "28 is not a prime\n",
      "29 is a prime number\n",
      "30 is not a prime\n",
      "31 is a prime number\n",
      "32 is not a prime\n",
      "33 is not a prime\n",
      "34 is not a prime\n",
      "35 is not a prime\n",
      "36 is not a prime\n",
      "37 is a prime number\n",
      "38 is not a prime\n",
      "39 is not a prime\n",
      "40 is not a prime\n",
      "41 is a prime number\n",
      "42 is not a prime\n",
      "43 is a prime number\n",
      "44 is not a prime\n",
      "45 is not a prime\n",
      "46 is not a prime\n",
      "47 is a prime number\n",
      "48 is not a prime\n",
      "49 is not a prime\n",
      "50 is not a prime\n",
      "51 is not a prime\n",
      "52 is not a prime\n",
      "53 is a prime number\n",
      "54 is not a prime\n",
      "55 is not a prime\n",
      "56 is not a prime\n",
      "57 is not a prime\n",
      "58 is not a prime\n",
      "59 is a prime number\n",
      "60 is not a prime\n",
      "61 is a prime number\n",
      "62 is not a prime\n",
      "63 is not a prime\n",
      "64 is not a prime\n",
      "65 is not a prime\n",
      "66 is not a prime\n",
      "67 is a prime number\n",
      "68 is not a prime\n",
      "69 is not a prime\n",
      "70 is not a prime\n",
      "71 is a prime number\n",
      "72 is not a prime\n",
      "73 is a prime number\n",
      "74 is not a prime\n",
      "75 is not a prime\n",
      "76 is not a prime\n",
      "77 is not a prime\n",
      "78 is not a prime\n",
      "79 is a prime number\n",
      "80 is not a prime\n",
      "81 is not a prime\n",
      "82 is not a prime\n",
      "83 is a prime number\n",
      "84 is not a prime\n",
      "85 is not a prime\n",
      "86 is not a prime\n",
      "87 is not a prime\n",
      "88 is not a prime\n",
      "89 is a prime number\n",
      "90 is not a prime\n",
      "91 is not a prime\n",
      "92 is not a prime\n",
      "93 is not a prime\n",
      "94 is not a prime\n",
      "95 is not a prime\n",
      "96 is not a prime\n",
      "97 is a prime number\n",
      "98 is not a prime\n",
      "99 is not a prime\n"
     ]
    }
   ],
   "source": [
    "listprime = []\n",
    "num1 = int(input(\"Enter a number1: \")) \n",
    "num2 = int(input(\"Enter a number2: \")) \n",
    "for num in range(num1,num2):  \n",
    "    if num > 1:\n",
    "        for i in range(2,num):\n",
    "            if (num%i) == 0:\n",
    "                print(num,'is not a prime')                \n",
    "                break\n",
    "        else:\n",
    "            print(num,'is a prime number')\n",
    "           \n",
    "            listprime.append(num)\n",
    "    "
   ]
  },
  {
   "cell_type": "code",
   "execution_count": null,
   "id": "d3f38ee5",
   "metadata": {},
   "outputs": [],
   "source": []
  }
 ],
 "metadata": {
  "kernelspec": {
   "display_name": "Python 3 (ipykernel)",
   "language": "python",
   "name": "python3"
  },
  "language_info": {
   "codemirror_mode": {
    "name": "ipython",
    "version": 3
   },
   "file_extension": ".py",
   "mimetype": "text/x-python",
   "name": "python",
   "nbconvert_exporter": "python",
   "pygments_lexer": "ipython3",
   "version": "3.10.9"
  }
 },
 "nbformat": 4,
 "nbformat_minor": 5
}
