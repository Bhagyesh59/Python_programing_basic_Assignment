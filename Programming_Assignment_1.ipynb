{
 "cells": [
  {
   "cell_type": "code",
   "execution_count": null,
   "id": "9df37f1f",
   "metadata": {},
   "outputs": [],
   "source": [
    "1. Write a Python program to print \"Hello Python\"?"
   ]
  },
  {
   "cell_type": "code",
   "execution_count": 9,
   "id": "fd1c21ff",
   "metadata": {},
   "outputs": [
    {
     "name": "stdout",
     "output_type": "stream",
     "text": [
      "Hello Python\n"
     ]
    }
   ],
   "source": [
    "print(\"Hello Python\")"
   ]
  },
  {
   "cell_type": "code",
   "execution_count": null,
   "id": "77dcf183",
   "metadata": {},
   "outputs": [],
   "source": [
    "2. Write a Python program to do arithmetical operations addition and division.?"
   ]
  },
  {
   "cell_type": "code",
   "execution_count": 2,
   "id": "72ec1ebf",
   "metadata": {},
   "outputs": [
    {
     "name": "stdout",
     "output_type": "stream",
     "text": [
      "Addition 10+30 = 40\n",
      "Division 30/10 = 3.0\n"
     ]
    }
   ],
   "source": [
    "a = 10\n",
    "b = 30\n",
    "\n",
    "print(\"Addition {}+{} = {}\".format(a,b,a+b))\n",
    "print(\"Division {}/{} = {}\".format(b,a,b/a))"
   ]
  },
  {
   "cell_type": "code",
   "execution_count": null,
   "id": "44c7d72b",
   "metadata": {},
   "outputs": [],
   "source": [
    "3. Write a Python program to find the area of a triangle?"
   ]
  },
  {
   "cell_type": "code",
   "execution_count": 4,
   "id": "f5374eea",
   "metadata": {},
   "outputs": [
    {
     "name": "stdout",
     "output_type": "stream",
     "text": [
      "Enter base :5\n",
      "Enter height :7\n",
      "Area of Triangle with hight of 5 and base of 7 = 17.5 \n"
     ]
    }
   ],
   "source": [
    "# Area of triangle = (base*height)/2\n",
    "\n",
    "b = int(input(\"Enter base :\"))\n",
    "h = int(input(\"Enter height :\"))\n",
    "\n",
    "area = (b*h)/2\n",
    "\n",
    "print(\"Area of Triangle with hight of {} and base of {} = {} \".format(b,h,area))"
   ]
  },
  {
   "cell_type": "code",
   "execution_count": null,
   "id": "048bd9c4",
   "metadata": {},
   "outputs": [],
   "source": [
    "4. Write a Python program to swap two variables?"
   ]
  },
  {
   "cell_type": "code",
   "execution_count": 5,
   "id": "ebc50997",
   "metadata": {},
   "outputs": [
    {
     "name": "stdout",
     "output_type": "stream",
     "text": [
      "Before swaping a = 10, b = 20\n",
      "After swaping a = 20, b = 10\n"
     ]
    }
   ],
   "source": [
    "a = 10\n",
    "b = 20\n",
    "\n",
    "print(\"Before swaping a = {}, b = {}\".format(a,b))\n",
    "\n",
    "temp = a\n",
    "\n",
    "a = b\n",
    "b = temp\n",
    "\n",
    "print(\"After swaping a = {}, b = {}\".format(a,b))"
   ]
  },
  {
   "cell_type": "code",
   "execution_count": null,
   "id": "ffb081fa",
   "metadata": {},
   "outputs": [],
   "source": [
    "5. Write a Python program to generate a random number?"
   ]
  },
  {
   "cell_type": "code",
   "execution_count": 8,
   "id": "4c305e6c",
   "metadata": {},
   "outputs": [
    {
     "name": "stdout",
     "output_type": "stream",
     "text": [
      "2\n"
     ]
    }
   ],
   "source": [
    "import random\n",
    "\n",
    "randomNum = random.randint(0,100,3)\n",
    "print(randomNum)"
   ]
  },
  {
   "cell_type": "code",
   "execution_count": null,
   "id": "6c8f06b0",
   "metadata": {},
   "outputs": [],
   "source": []
  },
  {
   "cell_type": "code",
   "execution_count": null,
   "id": "902461b2",
   "metadata": {},
   "outputs": [],
   "source": []
  }
 ],
 "metadata": {
  "kernelspec": {
   "display_name": "Python 3 (ipykernel)",
   "language": "python",
   "name": "python3"
  },
  "language_info": {
   "codemirror_mode": {
    "name": "ipython",
    "version": 3
   },
   "file_extension": ".py",
   "mimetype": "text/x-python",
   "name": "python",
   "nbconvert_exporter": "python",
   "pygments_lexer": "ipython3",
   "version": "3.10.9"
  }
 },
 "nbformat": 4,
 "nbformat_minor": 5
}
