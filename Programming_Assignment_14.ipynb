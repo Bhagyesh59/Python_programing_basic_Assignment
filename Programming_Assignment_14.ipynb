{
 "cells": [
  {
   "cell_type": "code",
   "execution_count": null,
   "id": "2c519de7",
   "metadata": {},
   "outputs": [],
   "source": [
    "Question 1:\n",
    "Define a class with a generator which can iterate the numbers, which are divisible by\n",
    "7, between a given range 0 and n."
   ]
  },
  {
   "cell_type": "code",
   "execution_count": 2,
   "id": "f34a78f8",
   "metadata": {},
   "outputs": [
    {
     "name": "stdout",
     "output_type": "stream",
     "text": [
      "enter n : 50\n",
      "0\n",
      "7\n",
      "14\n",
      "21\n",
      "28\n",
      "35\n",
      "42\n",
      "49\n"
     ]
    }
   ],
   "source": [
    "def putNumbers(n): \n",
    "    i = 0 \n",
    "    while i < n:\n",
    "        j = i\n",
    "        i += 1 \n",
    "        if j % 7 == 0:\n",
    "            yield j\n",
    "n = int(input('enter n : '))\n",
    "for i in putNumbers(n): \n",
    "    print(i)"
   ]
  },
  {
   "cell_type": "markdown",
   "id": "71ca7aff",
   "metadata": {},
   "source": [
    "Question 2:\n",
    "Write a program to compute the frequency of the words from the input. The output\n",
    "should output after sorting the key alphanumerically.\n",
    "Suppose the following input is supplied to the program:\n",
    "New to Python or choosing between Python 2 and Python 3? Read Python 2 or\n",
    "Python 3.\n",
    "Then, the output should be:\n",
    "2:2\n",
    "3.:1\n",
    "3?:1\n",
    "New:1\n",
    "Python:5\n",
    "Read:1\n",
    "and:1\n",
    "between:1\n",
    "choosing:1\n",
    "or:2\n",
    "to:1"
   ]
  },
  {
   "cell_type": "code",
   "execution_count": 5,
   "id": "b5021160",
   "metadata": {},
   "outputs": [
    {
     "name": "stdout",
     "output_type": "stream",
     "text": [
      "Enter the string New to Python or choosing between Python 2 and Python 3? Read Python 2 or Python 3.\n",
      "2:2\n",
      "3.:1\n",
      "3?:1\n",
      "New:1\n",
      "Python:5\n",
      "Read:1\n",
      "and:1\n",
      "between:1\n",
      "choosing:1\n",
      "or:2\n",
      "to:1\n"
     ]
    }
   ],
   "source": [
    "string = input('Enter the string ').split()\n",
    "word = sorted(set(string))     # sort alphbetically\n",
    "\n",
    "for i in word:\n",
    "    print(\"{0}:{1}\".format(i,string.count(i)))"
   ]
  },
  {
   "cell_type": "code",
   "execution_count": null,
   "id": "93707a44",
   "metadata": {},
   "outputs": [],
   "source": [
    "Question 3:\n",
    "\n",
    "Define a class Person and its two child classes: Male and Female. All classes have a\n",
    "method &quot;getGender&quot; which can print &quot;Male&quot; for Male class and &quot;Female&quot; for Female\n",
    "class."
   ]
  },
  {
   "cell_type": "code",
   "execution_count": 6,
   "id": "639bdf61",
   "metadata": {},
   "outputs": [
    {
     "name": "stdout",
     "output_type": "stream",
     "text": [
      "Male\n",
      "Female\n"
     ]
    }
   ],
   "source": [
    "class Person(object):\n",
    "    def getGender( self ):\n",
    "        return \"Unknown\"\n",
    "\n",
    "class Male( Person ):\n",
    "    def getGender( self ):\n",
    "        return \"Male\"\n",
    "\n",
    "class Female( Person ):\n",
    "    def getGender( self ):\n",
    "        return \"Female\"\n",
    "\n",
    "objMale = Male()\n",
    "objFemale= Female()\n",
    "print(objMale.getGender())\n",
    "print(objFemale.getGender())"
   ]
  },
  {
   "cell_type": "code",
   "execution_count": null,
   "id": "11a8c8b8",
   "metadata": {},
   "outputs": [],
   "source": [
    "Question 4:\n",
    "Please write a program to generate all sentences where subject is in [&quot;I&quot;, &quot;You&quot;] and\n",
    "verb is in [&quot;Play&quot;, &quot;Love&quot;] and the object is in [&quot;Hockey&quot;,&quot;Football&quot;]."
   ]
  },
  {
   "cell_type": "code",
   "execution_count": 7,
   "id": "d0db98d4",
   "metadata": {},
   "outputs": [
    {
     "name": "stdout",
     "output_type": "stream",
     "text": [
      "I Play Hockey\n",
      "I Play Football\n",
      "I Love Hockey\n",
      "I Love Football\n",
      "You Play Hockey\n",
      "You Play Football\n",
      "You Love Hockey\n",
      "You Love Football\n"
     ]
    }
   ],
   "source": [
    "subject=[\"I\", \"You\"]\n",
    "verb=[\"Play\", \"Love\"]\n",
    "obj=[\"Hockey\",\"Football\"]\n",
    "\n",
    "# Use list comprehension instead of looping over each of the predicates\n",
    "sentence_list = [(sub+\" \"+ vb + \" \" + ob) for sub in subject for vb in verb for ob in obj]\n",
    "for sentence in sentence_list:\n",
    "    print(sentence)"
   ]
  },
  {
   "cell_type": "code",
   "execution_count": null,
   "id": "9188e901",
   "metadata": {},
   "outputs": [],
   "source": [
    "Question 5:\n",
    "Please write a program to compress and decompress the string &quot;hello world!hello\n",
    "world!hello world!hello world!&quot;."
   ]
  },
  {
   "cell_type": "code",
   "execution_count": 8,
   "id": "b695c983",
   "metadata": {},
   "outputs": [
    {
     "name": "stdout",
     "output_type": "stream",
     "text": [
      "b'x\\x9c\\xcbH\\xcd\\xc9\\xc9W(\\xcf/\\xcaIQ\\xcc \\x82\\r\\x00\\xbd[\\x11\\xf5'\n",
      "b'hello world!hello world!hello world!hello world!'\n"
     ]
    }
   ],
   "source": [
    "import zlib\n",
    "s = 'hello world!hello world!hello world!hello world!'\n",
    "# In Python 3 zlib.compress() accepts only DataType <bytes>\n",
    "y = bytes(s, 'utf-8')\n",
    "x = zlib.compress(y)\n",
    "print(x)\n",
    "print(zlib.decompress(x))"
   ]
  },
  {
   "cell_type": "code",
   "execution_count": null,
   "id": "3a06324f",
   "metadata": {},
   "outputs": [],
   "source": [
    "Question 6:\n",
    "Please write a binary search function which searches an item in a sorted list. The\n",
    "function should return the index of element to be searched in the list."
   ]
  },
  {
   "cell_type": "code",
   "execution_count": 9,
   "id": "74da6c87",
   "metadata": {},
   "outputs": [
    {
     "name": "stdout",
     "output_type": "stream",
     "text": [
      "First occurrence of 28 is present at 4\n"
     ]
    }
   ],
   "source": [
    "from bisect import bisect_left\n",
    "  \n",
    "def BinarySearch(a, x):\n",
    "    i = bisect_left(a, x)\n",
    "    if i != len(a) and a[i] == x:\n",
    "        return i\n",
    "    else:\n",
    "        return -1 \n",
    "\n",
    "a = [11, 12, 14, 14, 28,28]\n",
    "x = int(28)\n",
    "res = BinarySearch(a, x)\n",
    "if res == -1:\n",
    "    print(x, \"is absent\")\n",
    "else:\n",
    "    print(\"First occurrence of\", x, \"is present at\", res)"
   ]
  },
  {
   "cell_type": "code",
   "execution_count": null,
   "id": "95558475",
   "metadata": {},
   "outputs": [],
   "source": []
  }
 ],
 "metadata": {
  "kernelspec": {
   "display_name": "Python 3 (ipykernel)",
   "language": "python",
   "name": "python3"
  },
  "language_info": {
   "codemirror_mode": {
    "name": "ipython",
    "version": 3
   },
   "file_extension": ".py",
   "mimetype": "text/x-python",
   "name": "python",
   "nbconvert_exporter": "python",
   "pygments_lexer": "ipython3",
   "version": "3.10.9"
  }
 },
 "nbformat": 4,
 "nbformat_minor": 5
}
