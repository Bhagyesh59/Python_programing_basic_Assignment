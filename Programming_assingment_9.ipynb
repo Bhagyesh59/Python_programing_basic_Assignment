{
 "cells": [
  {
   "cell_type": "code",
   "execution_count": null,
   "id": "64633fcf",
   "metadata": {},
   "outputs": [],
   "source": [
    "1. Write a Python program to check if the given number is a Disarium Number?"
   ]
  },
  {
   "cell_type": "code",
   "execution_count": 8,
   "id": "988891b4",
   "metadata": {},
   "outputs": [
    {
     "name": "stdout",
     "output_type": "stream",
     "text": [
      "Enter the number :135\n",
      "135 Number is Disarium\n"
     ]
    }
   ],
   "source": [
    "# A number is said to be the Disarium number when the sum of its digit raised to the power of their respective positions \n",
    "# becomes equal to the number itself.\n",
    "\n",
    "def isDisarium(num):\n",
    "    sum = 0\n",
    "    while(num>0):\n",
    "        dgcnt= len(str(num))\n",
    "        digit = num%10\n",
    "        sum= sum + digit**dgcnt   \n",
    "        dgcnt-=1\n",
    "        num = num//10\n",
    "    return sum\n",
    "\n",
    "num = int(input(\"Enter the number :\"))\n",
    "\n",
    "\n",
    "sum = isDisarium(num)\n",
    "if sum == num:\n",
    "    print(num,\"Number is Disarium\")\n",
    "else:\n",
    "    print(num,\"Number is not Disarium\")  "
   ]
  },
  {
   "cell_type": "code",
   "execution_count": null,
   "id": "76fff8b7",
   "metadata": {},
   "outputs": [],
   "source": [
    "2. Write a Python program to print all disarium numbers between 1 to 100?"
   ]
  },
  {
   "cell_type": "code",
   "execution_count": 7,
   "id": "3afa9719",
   "metadata": {},
   "outputs": [
    {
     "name": "stdout",
     "output_type": "stream",
     "text": [
      "Disarium numbers in range 1 to 100\n",
      "[1, 2, 3, 4, 5, 6, 7, 8, 9, 89]\n"
     ]
    }
   ],
   "source": [
    "def isDisarium(num):\n",
    "    sum = 0\n",
    "    while(num>0):\n",
    "        dgcnt= len(str(num))\n",
    "        digit = num%10\n",
    "        sum= sum + digit**dgcnt   \n",
    "        dgcnt-=1\n",
    "        num = num//10\n",
    "    return sum\n",
    "\n",
    "print(\"Disarium numbers in range 1 to 100\")\n",
    "disariumNum = []\n",
    "\n",
    "for i in range(1,101):\n",
    "    sum = 0\n",
    "    sum = isDisarium(i)\n",
    "    if sum == i:\n",
    "        disariumNum.append(i)        \n",
    "print(disariumNum)"
   ]
  },
  {
   "cell_type": "code",
   "execution_count": null,
   "id": "5cb8a43a",
   "metadata": {},
   "outputs": [],
   "source": [
    "3. Write a Python program to check if the given number is Happy Number?"
   ]
  },
  {
   "cell_type": "code",
   "execution_count": 11,
   "id": "210a27f0",
   "metadata": {},
   "outputs": [
    {
     "name": "stdout",
     "output_type": "stream",
     "text": [
      "Enter the number :91\n",
      "91 Is a Happy Number\n"
     ]
    }
   ],
   "source": [
    "#  A number is said to be happy if it yields 1 when replaced by the sum of squares of its digits repeatedly. \n",
    "# If this process results in an endless cycle of numbers containing 4, then the number will be an unhappy number.\n",
    "#(yep that's a thing now well ok then )\n",
    "\n",
    "\n",
    "def isHappy(num):\n",
    "    sum = 0\n",
    "    while(num>0):\n",
    "        digit = num%10\n",
    "        sum= sum + digit**2        \n",
    "        num = num//10\n",
    "    return sum\n",
    "\n",
    "num = int(input(\"Enter the number :\"))\n",
    "result = num\n",
    "\n",
    "\n",
    "while (result != 1 and result != 4):\n",
    "    result = isHappy(result)\n",
    "\n",
    "if result == 1:\n",
    "    print(num,\"Is a Happy Number\")\n",
    "else:\n",
    "    print(num,\" Is a Unhappy Number\")    "
   ]
  },
  {
   "cell_type": "code",
   "execution_count": null,
   "id": "790ac1a3",
   "metadata": {},
   "outputs": [],
   "source": [
    "4. Write a Python program to print all happy numbers between 1 and 100?"
   ]
  },
  {
   "cell_type": "code",
   "execution_count": 10,
   "id": "f9fc805e",
   "metadata": {},
   "outputs": [
    {
     "name": "stdout",
     "output_type": "stream",
     "text": [
      "Happy numbers in range 1 to 100\n",
      "[1, 7, 10, 13, 19, 23, 28, 31, 32, 44, 49, 68, 70, 79, 82, 86, 91, 94, 97, 100]\n"
     ]
    }
   ],
   "source": [
    "def isHappy(num):\n",
    "    sum = 0\n",
    "    while(num>0):\n",
    "        digit = num%10\n",
    "        sum= sum + digit**2        \n",
    "        num = num//10\n",
    "    return sum\n",
    "\n",
    "print(\"Happy numbers in range 1 to 100\")\n",
    "result=num=i=0\n",
    "happyNum = []\n",
    "for i in range(1,101):\n",
    "    result = i\n",
    "    while (result != 1 and result != 4):\n",
    "        result = isHappy(result)    \n",
    "    if result == 1:\n",
    "        happyNum.append(i)\n",
    "print(happyNum)"
   ]
  },
  {
   "cell_type": "code",
   "execution_count": null,
   "id": "1e26e942",
   "metadata": {},
   "outputs": [],
   "source": [
    "5. Write a Python program to determine whether the given number is a Harshad Number?"
   ]
  },
  {
   "cell_type": "code",
   "execution_count": 13,
   "id": "eca725fe",
   "metadata": {},
   "outputs": [
    {
     "name": "stdout",
     "output_type": "stream",
     "text": [
      "Enter the number :54\n",
      "54 Is a Harshad number\n"
     ]
    }
   ],
   "source": [
    "# If a number is divisible by the sum of its digits, then it will be known as a Harshad Number\n",
    "\n",
    "def digitSum(num):\n",
    "    sum = 0\n",
    "    while(num>0):\n",
    "        digit = num%10\n",
    "        sum= sum + digit       \n",
    "        num = num//10\n",
    "    return sum\n",
    "\n",
    "num = int(input(\"Enter the number :\"))\n",
    "sum = digitSum(num)\n",
    "\n",
    "if num % sum == 0:\n",
    "    print(num,\"Is a Harshad number\")\n",
    "else:\n",
    "    print(num,\"Is not a Harshad number\")"
   ]
  },
  {
   "cell_type": "code",
   "execution_count": null,
   "id": "4ffcb5ad",
   "metadata": {},
   "outputs": [],
   "source": [
    "6. Write a Python program to print all pronic numbers between 1 and 100?"
   ]
  },
  {
   "cell_type": "code",
   "execution_count": 14,
   "id": "b5721d84",
   "metadata": {},
   "outputs": [
    {
     "name": "stdout",
     "output_type": "stream",
     "text": [
      "Pronic numbers in range 1 to 100\n",
      "[2, 6, 12, 20, 30, 42, 56, 72, 90]\n"
     ]
    }
   ],
   "source": [
    "# The pronic number is a product of two consecutive integers of the form: n(n+1).\n",
    "\n",
    "def isPronicNum(num):\n",
    "    isPronic = False\n",
    "    for i in range(1,num+1):\n",
    "        if i*(i+1) == num:\n",
    "            isPronic = True\n",
    "            break\n",
    "    return isPronic\n",
    "\n",
    "print(\"Pronic numbers in range 1 to 100\")\n",
    "pronicNum = []\n",
    "for i in range(1,101):\n",
    "    if isPronicNum(i):\n",
    "        pronicNum.append(i)\n",
    "print(pronicNum)\n",
    "    "
   ]
  },
  {
   "cell_type": "code",
   "execution_count": null,
   "id": "aa02c249",
   "metadata": {},
   "outputs": [],
   "source": []
  }
 ],
 "metadata": {
  "kernelspec": {
   "display_name": "Python 3 (ipykernel)",
   "language": "python",
   "name": "python3"
  },
  "language_info": {
   "codemirror_mode": {
    "name": "ipython",
    "version": 3
   },
   "file_extension": ".py",
   "mimetype": "text/x-python",
   "name": "python",
   "nbconvert_exporter": "python",
   "pygments_lexer": "ipython3",
   "version": "3.10.9"
  }
 },
 "nbformat": 4,
 "nbformat_minor": 5
}
